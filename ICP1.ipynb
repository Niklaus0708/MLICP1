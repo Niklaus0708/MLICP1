{
  "nbformat": 4,
  "nbformat_minor": 0,
  "metadata": {
    "colab": {
      "provenance": [],
      "authorship_tag": "ABX9TyO7t7bru48LGaWQwospfvfX",
      "include_colab_link": true
    },
    "kernelspec": {
      "name": "python3",
      "display_name": "Python 3"
    },
    "language_info": {
      "name": "python"
    }
  },
  "cells": [
    {
      "cell_type": "markdown",
      "metadata": {
        "id": "view-in-github",
        "colab_type": "text"
      },
      "source": [
        "<a href=\"https://colab.research.google.com/github/Niklaus0708/MLICP1/blob/main/ICP1.ipynb\" target=\"_parent\"><img src=\"https://colab.research.google.com/assets/colab-badge.svg\" alt=\"Open In Colab\"/></a>"
      ]
    },
    {
      "cell_type": "code",
      "execution_count": 1,
      "metadata": {
        "id": "mraFH90LkWS9"
      },
      "outputs": [],
      "source": [
        "ages = [19, 22, 19, 24, 20, 25, 26, 24, 25, 24]"
      ]
    },
    {
      "cell_type": "code",
      "source": [
        "ages.sort()  #sorts the data inside the ages"
      ],
      "metadata": {
        "id": "Y0ut8A00kfbY"
      },
      "execution_count": 2,
      "outputs": []
    },
    {
      "cell_type": "code",
      "source": [
        "ages # prints the content in ages"
      ],
      "metadata": {
        "colab": {
          "base_uri": "https://localhost:8080/"
        },
        "id": "tVeNYKW_k32w",
        "outputId": "834efd70-fdaf-4075-b202-c1f3a325e5ed"
      },
      "execution_count": 3,
      "outputs": [
        {
          "output_type": "execute_result",
          "data": {
            "text/plain": [
              "[19, 19, 20, 22, 24, 24, 24, 25, 25, 26]"
            ]
          },
          "metadata": {},
          "execution_count": 3
        }
      ]
    },
    {
      "cell_type": "code",
      "source": [
        "min(ages) # gives minimum value"
      ],
      "metadata": {
        "colab": {
          "base_uri": "https://localhost:8080/"
        },
        "id": "nLzjVkoDk7gt",
        "outputId": "8a4c152f-aa42-492f-b5ad-7df8bce39b08"
      },
      "execution_count": 4,
      "outputs": [
        {
          "output_type": "execute_result",
          "data": {
            "text/plain": [
              "19"
            ]
          },
          "metadata": {},
          "execution_count": 4
        }
      ]
    },
    {
      "cell_type": "code",
      "source": [
        "max(ages) #gives maximum value"
      ],
      "metadata": {
        "colab": {
          "base_uri": "https://localhost:8080/"
        },
        "id": "UmX_UyoQk-rW",
        "outputId": "8ce34dc7-78a9-4696-dd6f-ccdef37a6d24"
      },
      "execution_count": 5,
      "outputs": [
        {
          "output_type": "execute_result",
          "data": {
            "text/plain": [
              "26"
            ]
          },
          "metadata": {},
          "execution_count": 5
        }
      ]
    },
    {
      "cell_type": "code",
      "source": [
        "n=len(ages) #gives the length"
      ],
      "metadata": {
        "id": "J-U4hXu_nF7L"
      },
      "execution_count": 6,
      "outputs": []
    },
    {
      "cell_type": "code",
      "source": [
        "if n % 2 == 0:  # for even number of observations\n",
        "    median1 = ages[n//2]\n",
        "    median2 = ages[n//2 - 1]\n",
        "    median = (median1 + median2)/2 #average of median observations\n",
        "else:\n",
        "    median = ages[n//2]\n",
        "print(\"Median is: \" + str(median))"
      ],
      "metadata": {
        "colab": {
          "base_uri": "https://localhost:8080/"
        },
        "id": "Atd-TMpDlg6B",
        "outputId": "d20e8387-488c-4d45-d9e7-d37f9d0ec623"
      },
      "execution_count": 7,
      "outputs": [
        {
          "output_type": "stream",
          "name": "stdout",
          "text": [
            "Median is: 24.0\n"
          ]
        }
      ]
    },
    {
      "cell_type": "code",
      "source": [
        "average=sum(ages)/len(ages)\n",
        "average  #mean of the data"
      ],
      "metadata": {
        "colab": {
          "base_uri": "https://localhost:8080/"
        },
        "id": "hL3WkLBeNtTn",
        "outputId": "5d2bbb9e-08b4-4d69-a5ca-db7676698e4d"
      },
      "execution_count": 53,
      "outputs": [
        {
          "output_type": "execute_result",
          "data": {
            "text/plain": [
              "22.8"
            ]
          },
          "metadata": {},
          "execution_count": 53
        }
      ]
    },
    {
      "cell_type": "code",
      "source": [
        "range=max(ages)-min(ages)\n",
        "range"
      ],
      "metadata": {
        "colab": {
          "base_uri": "https://localhost:8080/"
        },
        "id": "9tDQhs3PN5Q6",
        "outputId": "adcce880-ebc3-493b-e7b8-5209846448ae"
      },
      "execution_count": 54,
      "outputs": [
        {
          "output_type": "execute_result",
          "data": {
            "text/plain": [
              "7"
            ]
          },
          "metadata": {},
          "execution_count": 54
        }
      ]
    },
    {
      "cell_type": "code",
      "source": [
        "dog={'name':'buddy','color':'white','breed':'german shepard','age':'5','legs':'4'}\n",
        "dog.keys()  #gives the keys of the key value pair"
      ],
      "metadata": {
        "colab": {
          "base_uri": "https://localhost:8080/"
        },
        "id": "eRU9-yUHnsIO",
        "outputId": "9e527d88-75b3-4fec-f9cb-73836287045c"
      },
      "execution_count": 8,
      "outputs": [
        {
          "output_type": "execute_result",
          "data": {
            "text/plain": [
              "dict_keys(['name', 'color', 'breed', 'age', 'legs'])"
            ]
          },
          "metadata": {},
          "execution_count": 8
        }
      ]
    },
    {
      "cell_type": "code",
      "source": [
        "student={'first_name':'nikhil',\n",
        "         'last_name':'prakki',\n",
        "         'gender':'male',\n",
        "         'age':'22',\n",
        "         'martitalstatus':'single',\n",
        "         'skills':'[]',\n",
        "         'country':'India',\n",
        "         'city':'Rajamundry',\n",
        "         'address':'main road'}\n",
        "student[\"skills\"]=['c','java','python','javascript']  # added the data into skills key"
      ],
      "metadata": {
        "id": "PSzbjXXRot2N"
      },
      "execution_count": 9,
      "outputs": []
    },
    {
      "cell_type": "code",
      "source": [
        "len(student)"
      ],
      "metadata": {
        "colab": {
          "base_uri": "https://localhost:8080/"
        },
        "id": "wRewZsc1syIl",
        "outputId": "961b8449-a635-447f-fd20-375f72e3f677"
      },
      "execution_count": 10,
      "outputs": [
        {
          "output_type": "execute_result",
          "data": {
            "text/plain": [
              "9"
            ]
          },
          "metadata": {},
          "execution_count": 10
        }
      ]
    },
    {
      "cell_type": "code",
      "source": [
        "skills_value = student['skills']\n",
        "print(skills_value)\n",
        "print(type(skills_value)) #gives the type of skills_value"
      ],
      "metadata": {
        "colab": {
          "base_uri": "https://localhost:8080/"
        },
        "id": "MKdQLzCWuXOc",
        "outputId": "ffad8b85-0c92-42e5-a48e-9ea2c5ab994c"
      },
      "execution_count": 11,
      "outputs": [
        {
          "output_type": "stream",
          "name": "stdout",
          "text": [
            "['c', 'java', 'python', 'javascript']\n",
            "<class 'list'>\n"
          ]
        }
      ]
    },
    {
      "cell_type": "code",
      "source": [
        "studentkeys=list(student.keys()) #give sthe list of values in keys\n",
        "studentkeys"
      ],
      "metadata": {
        "colab": {
          "base_uri": "https://localhost:8080/"
        },
        "id": "qTT2tyDl0prt",
        "outputId": "b30fae92-d6f8-4f8a-e7af-657c5e7de0b7"
      },
      "execution_count": 12,
      "outputs": [
        {
          "output_type": "execute_result",
          "data": {
            "text/plain": [
              "['first_name',\n",
              " 'last_name',\n",
              " 'gender',\n",
              " 'age',\n",
              " 'martitalstatus',\n",
              " 'skills',\n",
              " 'country',\n",
              " 'city',\n",
              " 'address']"
            ]
          },
          "metadata": {},
          "execution_count": 12
        }
      ]
    },
    {
      "cell_type": "code",
      "source": [
        "studentvalues=list(student.values()) #give sthe list of values in values\n",
        "studentvalues"
      ],
      "metadata": {
        "colab": {
          "base_uri": "https://localhost:8080/"
        },
        "id": "bplFoLh71Enk",
        "outputId": "594f9d5e-1969-414c-9fc5-6c07e8047ce5"
      },
      "execution_count": 13,
      "outputs": [
        {
          "output_type": "execute_result",
          "data": {
            "text/plain": [
              "['nikhil',\n",
              " 'prakki',\n",
              " 'male',\n",
              " '22',\n",
              " 'single',\n",
              " ['c', 'java', 'python', 'javascript'],\n",
              " 'India',\n",
              " 'Rajamundry',\n",
              " 'main road']"
            ]
          },
          "metadata": {},
          "execution_count": 13
        }
      ]
    },
    {
      "cell_type": "code",
      "source": [
        "siblingsbro=('dinesh','avinash','nikhil')\n",
        "siblingssis=('rani','avani','prasanna')"
      ],
      "metadata": {
        "id": "HJm-L-zy1b8O"
      },
      "execution_count": 14,
      "outputs": []
    },
    {
      "cell_type": "code",
      "source": [
        "siblings=siblingssis+siblingsbro #joins the tuples\n",
        "siblings"
      ],
      "metadata": {
        "colab": {
          "base_uri": "https://localhost:8080/"
        },
        "id": "AX_0ALip2PXs",
        "outputId": "a5d389ed-9fca-4feb-964d-9c10620adf80"
      },
      "execution_count": 15,
      "outputs": [
        {
          "output_type": "execute_result",
          "data": {
            "text/plain": [
              "('rani', 'avani', 'prasanna', 'dinesh', 'avinash', 'nikhil')"
            ]
          },
          "metadata": {},
          "execution_count": 15
        }
      ]
    },
    {
      "cell_type": "code",
      "source": [
        "len(siblings)"
      ],
      "metadata": {
        "colab": {
          "base_uri": "https://localhost:8080/"
        },
        "id": "mS8Jocuo2bFD",
        "outputId": "8bc6c3c3-7c29-4b20-af97-cd7e910730d7"
      },
      "execution_count": 16,
      "outputs": [
        {
          "output_type": "execute_result",
          "data": {
            "text/plain": [
              "6"
            ]
          },
          "metadata": {},
          "execution_count": 16
        }
      ]
    },
    {
      "cell_type": "code",
      "source": [
        "parents=(\"ramu\",\"satya\")\n",
        "family_members=siblings+parents\n",
        "family_members"
      ],
      "metadata": {
        "colab": {
          "base_uri": "https://localhost:8080/"
        },
        "id": "WqykcUPn2plL",
        "outputId": "35b88d89-795b-4245-bda7-444b7ab64b85"
      },
      "execution_count": 17,
      "outputs": [
        {
          "output_type": "execute_result",
          "data": {
            "text/plain": [
              "('rani', 'avani', 'prasanna', 'dinesh', 'avinash', 'nikhil', 'ramu', 'satya')"
            ]
          },
          "metadata": {},
          "execution_count": 17
        }
      ]
    },
    {
      "cell_type": "code",
      "source": [
        "it_companies = {'Facebook', 'Google', 'Microsoft', 'Apple', 'IBM', 'Oracle', 'Amazon'}\n",
        "A = {19, 22, 24, 20, 25, 26}\n",
        "B = {19, 22, 20, 25, 26, 24, 28, 27}\n",
        "age = [22, 19, 24, 25, 26, 24, 25, 24]\n",
        "len(it_companies)"
      ],
      "metadata": {
        "colab": {
          "base_uri": "https://localhost:8080/"
        },
        "id": "j-X4QhaD3YUf",
        "outputId": "c1335f46-98b4-4595-bc39-ec7d2cf25574"
      },
      "execution_count": 18,
      "outputs": [
        {
          "output_type": "execute_result",
          "data": {
            "text/plain": [
              "7"
            ]
          },
          "metadata": {},
          "execution_count": 18
        }
      ]
    },
    {
      "cell_type": "code",
      "source": [
        "it_companies.add('twitter')  #adds new value to the set\n",
        "it_companies"
      ],
      "metadata": {
        "colab": {
          "base_uri": "https://localhost:8080/"
        },
        "id": "4rJoEf8J3fPk",
        "outputId": "11438f44-48bd-49a3-f845-24fa464482cd"
      },
      "execution_count": 19,
      "outputs": [
        {
          "output_type": "execute_result",
          "data": {
            "text/plain": [
              "{'Amazon',\n",
              " 'Apple',\n",
              " 'Facebook',\n",
              " 'Google',\n",
              " 'IBM',\n",
              " 'Microsoft',\n",
              " 'Oracle',\n",
              " 'twitter'}"
            ]
          },
          "metadata": {},
          "execution_count": 19
        }
      ]
    },
    {
      "cell_type": "code",
      "source": [
        "it_companies.update(['LinkedIn', 'Snapchat', 'Spotify']) #added multiple values to the set\n",
        "print(it_companies)"
      ],
      "metadata": {
        "colab": {
          "base_uri": "https://localhost:8080/"
        },
        "id": "nSARhEDr4DEz",
        "outputId": "13b27004-d0da-4c0c-fee7-79ff6a6e8a0e"
      },
      "execution_count": 20,
      "outputs": [
        {
          "output_type": "stream",
          "name": "stdout",
          "text": [
            "{'Google', 'Snapchat', 'LinkedIn', 'Microsoft', 'IBM', 'twitter', 'Amazon', 'Oracle', 'Facebook', 'Apple', 'Spotify'}\n"
          ]
        }
      ]
    },
    {
      "cell_type": "code",
      "source": [
        "it_companies.remove('Snapchat') #removes the element\n",
        "it_companies"
      ],
      "metadata": {
        "colab": {
          "base_uri": "https://localhost:8080/"
        },
        "id": "rMnaNHXa4G6P",
        "outputId": "ec27207d-2bd9-426a-9a17-8b12a5f0caaa"
      },
      "execution_count": 21,
      "outputs": [
        {
          "output_type": "execute_result",
          "data": {
            "text/plain": [
              "{'Amazon',\n",
              " 'Apple',\n",
              " 'Facebook',\n",
              " 'Google',\n",
              " 'IBM',\n",
              " 'LinkedIn',\n",
              " 'Microsoft',\n",
              " 'Oracle',\n",
              " 'Spotify',\n",
              " 'twitter'}"
            ]
          },
          "metadata": {},
          "execution_count": 21
        }
      ]
    },
    {
      "cell_type": "code",
      "source": [
        "it_companies.discard('IBM')"
      ],
      "metadata": {
        "id": "_X5bH-Pq5epp"
      },
      "execution_count": 22,
      "outputs": []
    },
    {
      "cell_type": "code",
      "source": [
        "it_companies.remove('IBM')"
      ],
      "metadata": {
        "colab": {
          "base_uri": "https://localhost:8080/",
          "height": 141
        },
        "id": "MtB68X-Y5l1j",
        "outputId": "0f7deaf5-4a8e-4833-a272-bd1cb5f18539"
      },
      "execution_count": 23,
      "outputs": [
        {
          "output_type": "error",
          "ename": "KeyError",
          "evalue": "'IBM'",
          "traceback": [
            "\u001b[0;31m---------------------------------------------------------------------------\u001b[0m",
            "\u001b[0;31mKeyError\u001b[0m                                  Traceback (most recent call last)",
            "\u001b[0;32m<ipython-input-23-3196df42cf5c>\u001b[0m in \u001b[0;36m<cell line: 1>\u001b[0;34m()\u001b[0m\n\u001b[0;32m----> 1\u001b[0;31m \u001b[0mit_companies\u001b[0m\u001b[0;34m.\u001b[0m\u001b[0mremove\u001b[0m\u001b[0;34m(\u001b[0m\u001b[0;34m'IBM'\u001b[0m\u001b[0;34m)\u001b[0m\u001b[0;34m\u001b[0m\u001b[0;34m\u001b[0m\u001b[0m\n\u001b[0m",
            "\u001b[0;31mKeyError\u001b[0m: 'IBM'"
          ]
        }
      ]
    },
    {
      "cell_type": "markdown",
      "source": [
        "discard doesnot give error if the value doesnot exist whereas remove gives."
      ],
      "metadata": {
        "id": "A53XsBhk5KD3"
      }
    },
    {
      "cell_type": "code",
      "source": [
        "new=A.union(B) #joins the sets and removes repetition\n",
        "new"
      ],
      "metadata": {
        "colab": {
          "base_uri": "https://localhost:8080/"
        },
        "id": "Qtcyr3NM5V3K",
        "outputId": "bc453b48-2202-4e74-ce3a-f1e4a8fbb399"
      },
      "execution_count": 24,
      "outputs": [
        {
          "output_type": "execute_result",
          "data": {
            "text/plain": [
              "{19, 20, 22, 24, 25, 26, 27, 28}"
            ]
          },
          "metadata": {},
          "execution_count": 24
        }
      ]
    },
    {
      "cell_type": "code",
      "source": [
        "new1=A.intersection(B) #gives the common elements\n",
        "new1"
      ],
      "metadata": {
        "colab": {
          "base_uri": "https://localhost:8080/"
        },
        "id": "APTcj_Vn6Cfe",
        "outputId": "0c7caeb7-fcda-44f2-8bad-5399e3c8a520"
      },
      "execution_count": 25,
      "outputs": [
        {
          "output_type": "execute_result",
          "data": {
            "text/plain": [
              "{19, 20, 22, 24, 25, 26}"
            ]
          },
          "metadata": {},
          "execution_count": 25
        }
      ]
    },
    {
      "cell_type": "code",
      "source": [
        "new2=A.issubset(B) #verifies whether it is a subset or not\n",
        "new2"
      ],
      "metadata": {
        "colab": {
          "base_uri": "https://localhost:8080/"
        },
        "id": "cexjmLa96M5Z",
        "outputId": "875bce44-e10d-4310-c3e0-439c091604d0"
      },
      "execution_count": 26,
      "outputs": [
        {
          "output_type": "execute_result",
          "data": {
            "text/plain": [
              "True"
            ]
          },
          "metadata": {},
          "execution_count": 26
        }
      ]
    },
    {
      "cell_type": "code",
      "source": [
        "A.isdisjoint(B)"
      ],
      "metadata": {
        "colab": {
          "base_uri": "https://localhost:8080/"
        },
        "id": "UAniUC0F6cdo",
        "outputId": "69d99b9a-2f40-4c22-ae69-863af7fb323b"
      },
      "execution_count": 27,
      "outputs": [
        {
          "output_type": "execute_result",
          "data": {
            "text/plain": [
              "False"
            ]
          },
          "metadata": {},
          "execution_count": 27
        }
      ]
    },
    {
      "cell_type": "code",
      "source": [
        "A.update(B) #updates one set ith the other\n",
        "A"
      ],
      "metadata": {
        "colab": {
          "base_uri": "https://localhost:8080/"
        },
        "id": "3YsHZGL06jZK",
        "outputId": "1c0fd594-4f0e-488f-f3ea-de3b9e2d7a13"
      },
      "execution_count": 28,
      "outputs": [
        {
          "output_type": "execute_result",
          "data": {
            "text/plain": [
              "{19, 20, 22, 24, 25, 26, 27, 28}"
            ]
          },
          "metadata": {},
          "execution_count": 28
        }
      ]
    },
    {
      "cell_type": "code",
      "source": [
        "B.update(A)\n",
        "B"
      ],
      "metadata": {
        "colab": {
          "base_uri": "https://localhost:8080/"
        },
        "id": "HPnKMPwc6wPk",
        "outputId": "91d3c41b-a0a9-489d-e577-41f94c290d4e"
      },
      "execution_count": 29,
      "outputs": [
        {
          "output_type": "execute_result",
          "data": {
            "text/plain": [
              "{19, 20, 22, 24, 25, 26, 27, 28}"
            ]
          },
          "metadata": {},
          "execution_count": 29
        }
      ]
    },
    {
      "cell_type": "code",
      "source": [
        "A = {19, 22, 24, 20, 25, 26}\n",
        "B = {19, 22, 20, 25, 26, 24, 28, 27}\n",
        "A_symmetric_difference_B = A.symmetric_difference(B) #gives the symmetric difference\n",
        "print(A_symmetric_difference_B)"
      ],
      "metadata": {
        "colab": {
          "base_uri": "https://localhost:8080/"
        },
        "id": "EsEuqrMO65rM",
        "outputId": "9e20d36b-cd2a-4a19-940f-898cdd1686b1"
      },
      "execution_count": 30,
      "outputs": [
        {
          "output_type": "stream",
          "name": "stdout",
          "text": [
            "{27, 28}\n"
          ]
        }
      ]
    },
    {
      "cell_type": "code",
      "source": [
        "del A\n",
        "del B"
      ],
      "metadata": {
        "id": "jzOaihDH7D_l"
      },
      "execution_count": 31,
      "outputs": []
    },
    {
      "cell_type": "code",
      "source": [
        "age = [22, 19, 24, 25, 26, 24, 25, 24]\n",
        "age_set = set(age)\n",
        "print(len(age))\n",
        "print(len(age_set))"
      ],
      "metadata": {
        "colab": {
          "base_uri": "https://localhost:8080/"
        },
        "id": "IA574EoJ7OuK",
        "outputId": "5c64bd17-4f45-4d37-f7ea-3cf9ebadf2d0"
      },
      "execution_count": 32,
      "outputs": [
        {
          "output_type": "stream",
          "name": "stdout",
          "text": [
            "8\n",
            "5\n"
          ]
        }
      ]
    },
    {
      "cell_type": "code",
      "source": [
        "rad=30\n",
        "_area_of_circle_=3.14*rad*rad\n",
        "_area_of_circle_"
      ],
      "metadata": {
        "colab": {
          "base_uri": "https://localhost:8080/"
        },
        "id": "yG3JJXCW7dJj",
        "outputId": "dc756d4c-31a3-4db5-8603-f55661e0f04c"
      },
      "execution_count": 33,
      "outputs": [
        {
          "output_type": "execute_result",
          "data": {
            "text/plain": [
              "2826.0"
            ]
          },
          "metadata": {},
          "execution_count": 33
        }
      ]
    },
    {
      "cell_type": "code",
      "source": [
        "_circum_of_circle_=2*3.14*rad\n",
        "_circum_of_circle_"
      ],
      "metadata": {
        "colab": {
          "base_uri": "https://localhost:8080/"
        },
        "id": "Kmeo6cJY73YI",
        "outputId": "0f3bb154-197d-4f25-ad8b-6156f12f5a70"
      },
      "execution_count": 34,
      "outputs": [
        {
          "output_type": "execute_result",
          "data": {
            "text/plain": [
              "188.4"
            ]
          },
          "metadata": {},
          "execution_count": 34
        }
      ]
    },
    {
      "cell_type": "code",
      "source": [
        "import math\n",
        "radius = float(input(\"Enter the radius of the circle: \")) # takes the radius value as a input from user\n",
        "area = math.pi * radius ** 2\n",
        "area"
      ],
      "metadata": {
        "colab": {
          "base_uri": "https://localhost:8080/"
        },
        "id": "cm5LVeO88YtV",
        "outputId": "49517622-1f00-4a91-d8d3-cbd5f4183019"
      },
      "execution_count": 35,
      "outputs": [
        {
          "name": "stdout",
          "output_type": "stream",
          "text": [
            "Enter the radius of the circle: 5\n"
          ]
        },
        {
          "output_type": "execute_result",
          "data": {
            "text/plain": [
              "78.53981633974483"
            ]
          },
          "metadata": {},
          "execution_count": 35
        }
      ]
    },
    {
      "cell_type": "code",
      "source": [
        "sentence = \"I am a teacher and I love to inspire and teach people\"\n",
        "words = sentence.split()\n",
        "unique_words = set(words)\n",
        "number_of_unique_words = len(unique_words)\n",
        "number_of_unique_words"
      ],
      "metadata": {
        "colab": {
          "base_uri": "https://localhost:8080/"
        },
        "id": "jLPcecdf8qrE",
        "outputId": "b730f51b-9525-4f0e-c16f-2f8496b52277"
      },
      "execution_count": 36,
      "outputs": [
        {
          "output_type": "execute_result",
          "data": {
            "text/plain": [
              "10"
            ]
          },
          "metadata": {},
          "execution_count": 36
        }
      ]
    },
    {
      "cell_type": "code",
      "source": [
        "\n",
        "header = \"Name\\tAge\\tCountry\\tCity\"\n",
        "data = \"Asabeneh\\t250\\tFinland\\tHelsinki\"\n",
        "print(header)\n",
        "print(data)\n"
      ],
      "metadata": {
        "colab": {
          "base_uri": "https://localhost:8080/"
        },
        "id": "5yWQ9Fkb9Rzd",
        "outputId": "7deaacb0-d83e-4796-8751-3ca1acff832a"
      },
      "execution_count": 51,
      "outputs": [
        {
          "output_type": "stream",
          "name": "stdout",
          "text": [
            "Name\tAge\tCountry\tCity\n",
            "Asabeneh\t250\tFinland\tHelsinki\n"
          ]
        }
      ]
    },
    {
      "cell_type": "code",
      "source": [
        "radius = 10\n",
        "area = 3.14 * radius ** 2\n",
        "\n",
        "message = \"The area of a circle with radius {} is {:.2f} meters square.\".format(radius, area)\n",
        "message\n"
      ],
      "metadata": {
        "colab": {
          "base_uri": "https://localhost:8080/",
          "height": 36
        },
        "id": "IncwmV8A-ZKf",
        "outputId": "63e07908-01f8-4e4f-b70d-0b091ed00cb8"
      },
      "execution_count": 40,
      "outputs": [
        {
          "output_type": "execute_result",
          "data": {
            "text/plain": [
              "'The area of a circle with radius 10 is 314.00 meters square.'"
            ],
            "application/vnd.google.colaboratory.intrinsic+json": {
              "type": "string"
            }
          },
          "metadata": {},
          "execution_count": 40
        }
      ]
    },
    {
      "cell_type": "code",
      "source": [
        "# Read the number of students from the user\n",
        "n = int(input(\"Enter the number of students: \"))\n",
        "\n",
        "# Initialize lists to store weights in pounds and kilograms\n",
        "weights_lbs = []\n",
        "weights_kg = []\n",
        "\n",
        "# Loop to read weights in pounds and convert to kilograms\n",
        "for i in range(n):\n",
        "    weight_lbs = float(input(f\"Enter the weight of student {i + 1} (in lbs): \"))\n",
        "    weights_lbs.append(weight_lbs)  # Add weight in pounds to the list\n",
        "    weight_kg = weight_lbs * 0.453592  # Convert pounds to kilograms\n",
        "    weights_kg.append(weight_kg)  # Add converted weight to the list\n",
        "\n",
        "# Print the weights in both pounds and kilograms\n",
        "print(\"\\nWeights in pounds:\", weights_lbs)\n",
        "print(\"Weights in kilograms:\", weights_kg)\n"
      ],
      "metadata": {
        "colab": {
          "base_uri": "https://localhost:8080/"
        },
        "id": "DJo-vkyQGn9t",
        "outputId": "48d63758-3fd3-4b4d-94b5-2891976a1a97"
      },
      "execution_count": 42,
      "outputs": [
        {
          "output_type": "stream",
          "name": "stdout",
          "text": [
            "Enter the number of students: 5\n",
            "Enter the weight of student 1 (in lbs): 5\n",
            "Enter the weight of student 2 (in lbs): 2\n",
            "Enter the weight of student 3 (in lbs): 6\n",
            "Enter the weight of student 4 (in lbs): 3\n",
            "Enter the weight of student 5 (in lbs): 5\n",
            "\n",
            "Weights in pounds: [5.0, 2.0, 6.0, 3.0, 5.0]\n",
            "Weights in kilograms: [2.26796, 0.907184, 2.721552, 1.360776, 2.26796]\n"
          ]
        }
      ]
    }
  ]
}