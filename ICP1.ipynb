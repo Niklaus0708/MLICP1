{
  "nbformat": 4,
  "nbformat_minor": 0,
  "metadata": {
    "colab": {
      "provenance": [],
      "authorship_tag": "ABX9TyPhLBgTU6RtZQBS63dDk62f",
      "include_colab_link": true
    },
    "kernelspec": {
      "name": "python3",
      "display_name": "Python 3"
    },
    "language_info": {
      "name": "python"
    }
  },
  "cells": [
    {
      "cell_type": "markdown",
      "metadata": {
        "id": "view-in-github",
        "colab_type": "text"
      },
      "source": [
        "<a href=\"https://colab.research.google.com/github/Niklaus0708/MLICP1/blob/main/ICP1.ipynb\" target=\"_parent\"><img src=\"https://colab.research.google.com/assets/colab-badge.svg\" alt=\"Open In Colab\"/></a>"
      ]
    },
    {
      "cell_type": "code",
      "execution_count": 64,
      "metadata": {
        "id": "mraFH90LkWS9"
      },
      "outputs": [],
      "source": [
        "ages = [19, 22, 19, 24, 20, 25, 26, 24, 25, 24]"
      ]
    },
    {
      "cell_type": "code",
      "source": [
        "ages.sort()  #sorts the data inside the ages"
      ],
      "metadata": {
        "id": "Y0ut8A00kfbY"
      },
      "execution_count": 65,
      "outputs": []
    },
    {
      "cell_type": "code",
      "source": [
        "ages # prints the content in ages"
      ],
      "metadata": {
        "colab": {
          "base_uri": "https://localhost:8080/"
        },
        "id": "tVeNYKW_k32w",
        "outputId": "3e15ad65-e607-45f3-f699-4ded5b9bcb61"
      },
      "execution_count": 66,
      "outputs": [
        {
          "output_type": "execute_result",
          "data": {
            "text/plain": [
              "[19, 19, 20, 22, 24, 24, 24, 25, 25, 26]"
            ]
          },
          "metadata": {},
          "execution_count": 66
        }
      ]
    },
    {
      "cell_type": "code",
      "source": [
        "min(ages) # gives minimum value"
      ],
      "metadata": {
        "colab": {
          "base_uri": "https://localhost:8080/"
        },
        "id": "nLzjVkoDk7gt",
        "outputId": "4623ac12-a79d-449a-ea7b-1793d3f8877c"
      },
      "execution_count": 67,
      "outputs": [
        {
          "output_type": "execute_result",
          "data": {
            "text/plain": [
              "19"
            ]
          },
          "metadata": {},
          "execution_count": 67
        }
      ]
    },
    {
      "cell_type": "code",
      "source": [
        "ages.append(19)\n",
        "ages"
      ],
      "metadata": {
        "colab": {
          "base_uri": "https://localhost:8080/"
        },
        "id": "PykfMZueMaEn",
        "outputId": "b41d046c-f1ad-4226-e746-87cb3d7f12cf"
      },
      "execution_count": 68,
      "outputs": [
        {
          "output_type": "execute_result",
          "data": {
            "text/plain": [
              "[19, 19, 20, 22, 24, 24, 24, 25, 25, 26, 19]"
            ]
          },
          "metadata": {},
          "execution_count": 68
        }
      ]
    },
    {
      "cell_type": "code",
      "source": [
        "max(ages) #gives maximum value"
      ],
      "metadata": {
        "colab": {
          "base_uri": "https://localhost:8080/"
        },
        "id": "UmX_UyoQk-rW",
        "outputId": "381f0ef8-b32f-4203-81fa-7024d3ea7a85"
      },
      "execution_count": 69,
      "outputs": [
        {
          "output_type": "execute_result",
          "data": {
            "text/plain": [
              "26"
            ]
          },
          "metadata": {},
          "execution_count": 69
        }
      ]
    },
    {
      "cell_type": "code",
      "source": [
        "ages.append(26)\n",
        "ages"
      ],
      "metadata": {
        "colab": {
          "base_uri": "https://localhost:8080/"
        },
        "id": "UQJ2GbHMMxAN",
        "outputId": "ade07c64-83c4-4a91-cd47-6c675126d83a"
      },
      "execution_count": 70,
      "outputs": [
        {
          "output_type": "execute_result",
          "data": {
            "text/plain": [
              "[19, 19, 20, 22, 24, 24, 24, 25, 25, 26, 19, 26]"
            ]
          },
          "metadata": {},
          "execution_count": 70
        }
      ]
    },
    {
      "cell_type": "code",
      "source": [
        "n=len(ages) #gives the length"
      ],
      "metadata": {
        "id": "J-U4hXu_nF7L"
      },
      "execution_count": 71,
      "outputs": []
    },
    {
      "cell_type": "code",
      "source": [
        "if n % 2 == 0:  # for even number of observations\n",
        "    median1 = ages[n//2]\n",
        "    median2 = ages[n//2 - 1]\n",
        "    median = (median1 + median2)/2 #average of median observations\n",
        "else:\n",
        "    median = ages[n//2]\n",
        "print(\"Median is: \" + str(median))"
      ],
      "metadata": {
        "colab": {
          "base_uri": "https://localhost:8080/"
        },
        "id": "Atd-TMpDlg6B",
        "outputId": "d4c1fabc-0724-4f27-f8db-da46dd825bac"
      },
      "execution_count": 72,
      "outputs": [
        {
          "output_type": "stream",
          "name": "stdout",
          "text": [
            "Median is: 24.0\n"
          ]
        }
      ]
    },
    {
      "cell_type": "code",
      "source": [
        "average=sum(ages)/len(ages)\n",
        "average  #mean of the data"
      ],
      "metadata": {
        "colab": {
          "base_uri": "https://localhost:8080/"
        },
        "id": "hL3WkLBeNtTn",
        "outputId": "ba06ed37-7bd8-4bbc-a88e-5f44c46c87e1"
      },
      "execution_count": 73,
      "outputs": [
        {
          "output_type": "execute_result",
          "data": {
            "text/plain": [
              "22.75"
            ]
          },
          "metadata": {},
          "execution_count": 73
        }
      ]
    },
    {
      "cell_type": "code",
      "source": [
        "range=max(ages)-min(ages)\n",
        "range"
      ],
      "metadata": {
        "colab": {
          "base_uri": "https://localhost:8080/"
        },
        "id": "9tDQhs3PN5Q6",
        "outputId": "7cd16aa0-5a54-453c-9e43-3cbb3df1cfdd"
      },
      "execution_count": 74,
      "outputs": [
        {
          "output_type": "execute_result",
          "data": {
            "text/plain": [
              "7"
            ]
          },
          "metadata": {},
          "execution_count": 74
        }
      ]
    },
    {
      "cell_type": "code",
      "source": [
        "dog={}"
      ],
      "metadata": {
        "id": "BIybRMHzh0LH"
      },
      "execution_count": 75,
      "outputs": []
    },
    {
      "cell_type": "code",
      "source": [
        "dog={'name':'buddy','color':'white','breed':'german shepard','age':'5','legs':'4'}\n",
        "dog.keys()  #gives the keys of the key value pair"
      ],
      "metadata": {
        "colab": {
          "base_uri": "https://localhost:8080/"
        },
        "id": "eRU9-yUHnsIO",
        "outputId": "65e1c127-29f5-4405-df57-f7849f297cee"
      },
      "execution_count": 76,
      "outputs": [
        {
          "output_type": "execute_result",
          "data": {
            "text/plain": [
              "dict_keys(['name', 'color', 'breed', 'age', 'legs'])"
            ]
          },
          "metadata": {},
          "execution_count": 76
        }
      ]
    },
    {
      "cell_type": "code",
      "source": [
        "student={'first_name':'nikhil',\n",
        "         'last_name':'prakki',\n",
        "         'gender':'male',\n",
        "         'age':'22',\n",
        "         'martitalstatus':'single',\n",
        "         'skills':'[]',\n",
        "         'country':'India',\n",
        "         'city':'Rajamundry',\n",
        "         'address':'main road'}\n",
        "student[\"skills\"]=['c','java','python','javascript']  # added the data into skills key"
      ],
      "metadata": {
        "id": "PSzbjXXRot2N"
      },
      "execution_count": 77,
      "outputs": []
    },
    {
      "cell_type": "code",
      "source": [
        "len(student)"
      ],
      "metadata": {
        "colab": {
          "base_uri": "https://localhost:8080/"
        },
        "id": "wRewZsc1syIl",
        "outputId": "a21717a2-a8c0-42b2-f991-ae94decd5102"
      },
      "execution_count": 78,
      "outputs": [
        {
          "output_type": "execute_result",
          "data": {
            "text/plain": [
              "9"
            ]
          },
          "metadata": {},
          "execution_count": 78
        }
      ]
    },
    {
      "cell_type": "code",
      "source": [
        "skills_value = student['skills']\n",
        "print(skills_value)\n",
        "print(type(skills_value)) #gives the type of skills_value"
      ],
      "metadata": {
        "colab": {
          "base_uri": "https://localhost:8080/"
        },
        "id": "MKdQLzCWuXOc",
        "outputId": "a0c09451-6d68-4b97-eb97-a191bd13bbe2"
      },
      "execution_count": 79,
      "outputs": [
        {
          "output_type": "stream",
          "name": "stdout",
          "text": [
            "['c', 'java', 'python', 'javascript']\n",
            "<class 'list'>\n"
          ]
        }
      ]
    },
    {
      "cell_type": "code",
      "source": [
        "student['skills'].extend([\"c#\",\"c++\"])\n",
        "student['skills']"
      ],
      "metadata": {
        "colab": {
          "base_uri": "https://localhost:8080/"
        },
        "id": "c16XhJl4VZuh",
        "outputId": "6be43786-4085-4cb8-b73e-a016d2b10e77"
      },
      "execution_count": 80,
      "outputs": [
        {
          "output_type": "execute_result",
          "data": {
            "text/plain": [
              "['c', 'java', 'python', 'javascript', 'c#', 'c++']"
            ]
          },
          "metadata": {},
          "execution_count": 80
        }
      ]
    },
    {
      "cell_type": "code",
      "source": [
        "studentkeys=list(student.keys()) #give sthe list of values in keys\n",
        "studentkeys"
      ],
      "metadata": {
        "colab": {
          "base_uri": "https://localhost:8080/"
        },
        "id": "qTT2tyDl0prt",
        "outputId": "4fa79e45-5b9e-461a-a307-6f96ef8251f0"
      },
      "execution_count": 81,
      "outputs": [
        {
          "output_type": "execute_result",
          "data": {
            "text/plain": [
              "['first_name',\n",
              " 'last_name',\n",
              " 'gender',\n",
              " 'age',\n",
              " 'martitalstatus',\n",
              " 'skills',\n",
              " 'country',\n",
              " 'city',\n",
              " 'address']"
            ]
          },
          "metadata": {},
          "execution_count": 81
        }
      ]
    },
    {
      "cell_type": "code",
      "source": [
        "studentvalues=list(student.values()) #give sthe list of values in values\n",
        "studentvalues"
      ],
      "metadata": {
        "colab": {
          "base_uri": "https://localhost:8080/"
        },
        "id": "bplFoLh71Enk",
        "outputId": "6b9ba71a-d663-4248-c9bf-518384214d8d"
      },
      "execution_count": 82,
      "outputs": [
        {
          "output_type": "execute_result",
          "data": {
            "text/plain": [
              "['nikhil',\n",
              " 'prakki',\n",
              " 'male',\n",
              " '22',\n",
              " 'single',\n",
              " ['c', 'java', 'python', 'javascript', 'c#', 'c++'],\n",
              " 'India',\n",
              " 'Rajamundry',\n",
              " 'main road']"
            ]
          },
          "metadata": {},
          "execution_count": 82
        }
      ]
    },
    {
      "cell_type": "code",
      "source": [
        "siblingsbro=('dinesh','avinash','nikhil')\n",
        "siblingssis=('rani','avani','prasanna')\n",
        "print(siblingsbro)\n",
        "print(siblingssis)"
      ],
      "metadata": {
        "id": "HJm-L-zy1b8O",
        "colab": {
          "base_uri": "https://localhost:8080/"
        },
        "outputId": "1cc20004-c687-46f9-8f60-4ed7eb2239fb"
      },
      "execution_count": 83,
      "outputs": [
        {
          "output_type": "stream",
          "name": "stdout",
          "text": [
            "('dinesh', 'avinash', 'nikhil')\n",
            "('rani', 'avani', 'prasanna')\n"
          ]
        }
      ]
    },
    {
      "cell_type": "code",
      "source": [
        "siblings=siblingssis+siblingsbro #joins the tuples\n",
        "siblings"
      ],
      "metadata": {
        "colab": {
          "base_uri": "https://localhost:8080/"
        },
        "id": "AX_0ALip2PXs",
        "outputId": "8dad8dcc-b9b6-4ee4-8605-5a0bdad1b0e8"
      },
      "execution_count": 84,
      "outputs": [
        {
          "output_type": "execute_result",
          "data": {
            "text/plain": [
              "('rani', 'avani', 'prasanna', 'dinesh', 'avinash', 'nikhil')"
            ]
          },
          "metadata": {},
          "execution_count": 84
        }
      ]
    },
    {
      "cell_type": "code",
      "source": [
        "len(siblings)"
      ],
      "metadata": {
        "colab": {
          "base_uri": "https://localhost:8080/"
        },
        "id": "mS8Jocuo2bFD",
        "outputId": "e0bc8ac9-888b-4970-df36-9aafececf3d5"
      },
      "execution_count": 85,
      "outputs": [
        {
          "output_type": "execute_result",
          "data": {
            "text/plain": [
              "6"
            ]
          },
          "metadata": {},
          "execution_count": 85
        }
      ]
    },
    {
      "cell_type": "code",
      "source": [
        "parents=(\"ramu\",\"satya\")\n",
        "family_members=siblings+parents\n",
        "family_members"
      ],
      "metadata": {
        "colab": {
          "base_uri": "https://localhost:8080/"
        },
        "id": "WqykcUPn2plL",
        "outputId": "0148127e-2712-4c3d-f16d-04cee37fe96b"
      },
      "execution_count": 86,
      "outputs": [
        {
          "output_type": "execute_result",
          "data": {
            "text/plain": [
              "('rani', 'avani', 'prasanna', 'dinesh', 'avinash', 'nikhil', 'ramu', 'satya')"
            ]
          },
          "metadata": {},
          "execution_count": 86
        }
      ]
    },
    {
      "cell_type": "code",
      "source": [
        "it_companies = {'Facebook', 'Google', 'Microsoft', 'Apple', 'IBM', 'Oracle', 'Amazon'}\n",
        "A = {19, 22, 24, 20, 25, 26}\n",
        "B = {19, 22, 20, 25, 26, 24, 28, 27}\n",
        "age = [22, 19, 24, 25, 26, 24, 25, 24]\n",
        "len(it_companies)"
      ],
      "metadata": {
        "colab": {
          "base_uri": "https://localhost:8080/"
        },
        "id": "j-X4QhaD3YUf",
        "outputId": "59de0c0f-838b-4063-8ed0-640e5a3810cb"
      },
      "execution_count": 87,
      "outputs": [
        {
          "output_type": "execute_result",
          "data": {
            "text/plain": [
              "7"
            ]
          },
          "metadata": {},
          "execution_count": 87
        }
      ]
    },
    {
      "cell_type": "code",
      "source": [
        "it_companies.add('twitter')  #adds new value to the set\n",
        "it_companies"
      ],
      "metadata": {
        "colab": {
          "base_uri": "https://localhost:8080/"
        },
        "id": "4rJoEf8J3fPk",
        "outputId": "666caf65-a95c-42c1-ba42-b0623646f22d"
      },
      "execution_count": 88,
      "outputs": [
        {
          "output_type": "execute_result",
          "data": {
            "text/plain": [
              "{'Amazon',\n",
              " 'Apple',\n",
              " 'Facebook',\n",
              " 'Google',\n",
              " 'IBM',\n",
              " 'Microsoft',\n",
              " 'Oracle',\n",
              " 'twitter'}"
            ]
          },
          "metadata": {},
          "execution_count": 88
        }
      ]
    },
    {
      "cell_type": "code",
      "source": [
        "it_companies.update(['LinkedIn', 'Snapchat', 'Spotify']) #added multiple values to the set\n",
        "print(it_companies)"
      ],
      "metadata": {
        "colab": {
          "base_uri": "https://localhost:8080/"
        },
        "id": "nSARhEDr4DEz",
        "outputId": "772298a5-3a66-460a-8293-b5d302a5b1f7"
      },
      "execution_count": 89,
      "outputs": [
        {
          "output_type": "stream",
          "name": "stdout",
          "text": [
            "{'Facebook', 'twitter', 'Snapchat', 'Google', 'Microsoft', 'Apple', 'IBM', 'Spotify', 'Amazon', 'Oracle', 'LinkedIn'}\n"
          ]
        }
      ]
    },
    {
      "cell_type": "code",
      "source": [
        "it_companies.remove('Snapchat') #removes the element\n",
        "it_companies"
      ],
      "metadata": {
        "colab": {
          "base_uri": "https://localhost:8080/"
        },
        "id": "rMnaNHXa4G6P",
        "outputId": "7863e087-4f20-4a07-f2a2-36e3b52760f7"
      },
      "execution_count": 90,
      "outputs": [
        {
          "output_type": "execute_result",
          "data": {
            "text/plain": [
              "{'Amazon',\n",
              " 'Apple',\n",
              " 'Facebook',\n",
              " 'Google',\n",
              " 'IBM',\n",
              " 'LinkedIn',\n",
              " 'Microsoft',\n",
              " 'Oracle',\n",
              " 'Spotify',\n",
              " 'twitter'}"
            ]
          },
          "metadata": {},
          "execution_count": 90
        }
      ]
    },
    {
      "cell_type": "code",
      "source": [
        "it_companies.discard('IBM')"
      ],
      "metadata": {
        "id": "_X5bH-Pq5epp"
      },
      "execution_count": 91,
      "outputs": []
    },
    {
      "cell_type": "markdown",
      "source": [
        "discard doesnot give error if the value doesnot exist whereas remove gives."
      ],
      "metadata": {
        "id": "A53XsBhk5KD3"
      }
    },
    {
      "cell_type": "code",
      "source": [
        "new=A.union(B) #joins the sets and removes repetition\n",
        "new"
      ],
      "metadata": {
        "colab": {
          "base_uri": "https://localhost:8080/"
        },
        "id": "Qtcyr3NM5V3K",
        "outputId": "a851e591-365f-4a33-ddda-deae97238f4c"
      },
      "execution_count": 92,
      "outputs": [
        {
          "output_type": "execute_result",
          "data": {
            "text/plain": [
              "{19, 20, 22, 24, 25, 26, 27, 28}"
            ]
          },
          "metadata": {},
          "execution_count": 92
        }
      ]
    },
    {
      "cell_type": "code",
      "source": [
        "new1=A.intersection(B) #gives the common elements\n",
        "new1"
      ],
      "metadata": {
        "colab": {
          "base_uri": "https://localhost:8080/"
        },
        "id": "APTcj_Vn6Cfe",
        "outputId": "c8152d84-0f68-46c0-b3f1-50f5d6c875fd"
      },
      "execution_count": 93,
      "outputs": [
        {
          "output_type": "execute_result",
          "data": {
            "text/plain": [
              "{19, 20, 22, 24, 25, 26}"
            ]
          },
          "metadata": {},
          "execution_count": 93
        }
      ]
    },
    {
      "cell_type": "code",
      "source": [
        "new2=A.issubset(B) #verifies whether it is a subset or not\n",
        "new2"
      ],
      "metadata": {
        "colab": {
          "base_uri": "https://localhost:8080/"
        },
        "id": "cexjmLa96M5Z",
        "outputId": "d0a4f91f-0ae5-4fab-ae71-d223a628171d"
      },
      "execution_count": 94,
      "outputs": [
        {
          "output_type": "execute_result",
          "data": {
            "text/plain": [
              "True"
            ]
          },
          "metadata": {},
          "execution_count": 94
        }
      ]
    },
    {
      "cell_type": "code",
      "source": [
        "A.isdisjoint(B)"
      ],
      "metadata": {
        "colab": {
          "base_uri": "https://localhost:8080/"
        },
        "id": "UAniUC0F6cdo",
        "outputId": "3c093980-fcfb-4b3a-9042-163b13452a74"
      },
      "execution_count": 95,
      "outputs": [
        {
          "output_type": "execute_result",
          "data": {
            "text/plain": [
              "False"
            ]
          },
          "metadata": {},
          "execution_count": 95
        }
      ]
    },
    {
      "cell_type": "code",
      "source": [
        "A.update(B) #updates one set ith the other\n",
        "A"
      ],
      "metadata": {
        "colab": {
          "base_uri": "https://localhost:8080/"
        },
        "id": "3YsHZGL06jZK",
        "outputId": "5b91686d-0f21-450c-eea6-3226bb51ca76"
      },
      "execution_count": 96,
      "outputs": [
        {
          "output_type": "execute_result",
          "data": {
            "text/plain": [
              "{19, 20, 22, 24, 25, 26, 27, 28}"
            ]
          },
          "metadata": {},
          "execution_count": 96
        }
      ]
    },
    {
      "cell_type": "code",
      "source": [
        "B.update(A)\n",
        "B"
      ],
      "metadata": {
        "colab": {
          "base_uri": "https://localhost:8080/"
        },
        "id": "HPnKMPwc6wPk",
        "outputId": "b02a7748-6269-433c-9915-7365f681b4cf"
      },
      "execution_count": 97,
      "outputs": [
        {
          "output_type": "execute_result",
          "data": {
            "text/plain": [
              "{19, 20, 22, 24, 25, 26, 27, 28}"
            ]
          },
          "metadata": {},
          "execution_count": 97
        }
      ]
    },
    {
      "cell_type": "code",
      "source": [
        "A = {19, 22, 24, 20, 25, 26}\n",
        "B = {19, 22, 20, 25, 26, 24, 28, 27}\n",
        "A_symmetric_difference_B = A.symmetric_difference(B) #gives the symmetric difference\n",
        "print(A_symmetric_difference_B)"
      ],
      "metadata": {
        "colab": {
          "base_uri": "https://localhost:8080/"
        },
        "id": "EsEuqrMO65rM",
        "outputId": "058f7bec-2a94-410c-d9c1-01fdd96ca4f0"
      },
      "execution_count": 98,
      "outputs": [
        {
          "output_type": "stream",
          "name": "stdout",
          "text": [
            "{27, 28}\n"
          ]
        }
      ]
    },
    {
      "cell_type": "code",
      "source": [
        "del A\n",
        "del B"
      ],
      "metadata": {
        "id": "jzOaihDH7D_l"
      },
      "execution_count": 99,
      "outputs": []
    },
    {
      "cell_type": "code",
      "source": [
        "age = [22, 19, 24, 25, 26, 24, 25, 24]\n",
        "age_set = set(age)\n",
        "print(len(age))\n",
        "print(len(age_set))"
      ],
      "metadata": {
        "colab": {
          "base_uri": "https://localhost:8080/"
        },
        "id": "IA574EoJ7OuK",
        "outputId": "eb209538-1b4f-4742-d7a0-740b4fec2f87"
      },
      "execution_count": 100,
      "outputs": [
        {
          "output_type": "stream",
          "name": "stdout",
          "text": [
            "8\n",
            "5\n"
          ]
        }
      ]
    },
    {
      "cell_type": "code",
      "source": [
        "rad=30\n",
        "_area_of_circle_=3.14*rad*rad\n",
        "_area_of_circle_"
      ],
      "metadata": {
        "colab": {
          "base_uri": "https://localhost:8080/"
        },
        "id": "yG3JJXCW7dJj",
        "outputId": "7d575527-18c2-43bc-f238-ac988be8ec46"
      },
      "execution_count": 101,
      "outputs": [
        {
          "output_type": "execute_result",
          "data": {
            "text/plain": [
              "2826.0"
            ]
          },
          "metadata": {},
          "execution_count": 101
        }
      ]
    },
    {
      "cell_type": "code",
      "source": [
        "_circum_of_circle_=2*3.14*rad\n",
        "_circum_of_circle_"
      ],
      "metadata": {
        "colab": {
          "base_uri": "https://localhost:8080/"
        },
        "id": "Kmeo6cJY73YI",
        "outputId": "63a32371-ec60-4e6a-d6ae-4fe679b888c4"
      },
      "execution_count": 102,
      "outputs": [
        {
          "output_type": "execute_result",
          "data": {
            "text/plain": [
              "188.4"
            ]
          },
          "metadata": {},
          "execution_count": 102
        }
      ]
    },
    {
      "cell_type": "code",
      "source": [
        "import math\n",
        "radius = float(input(\"Enter the radius of the circle: \")) # takes the radius value as a input from user\n",
        "area = math.pi * radius ** 2\n",
        "area"
      ],
      "metadata": {
        "colab": {
          "base_uri": "https://localhost:8080/"
        },
        "id": "cm5LVeO88YtV",
        "outputId": "ce093f94-d331-4fec-da66-de706bed2de2"
      },
      "execution_count": 103,
      "outputs": [
        {
          "name": "stdout",
          "output_type": "stream",
          "text": [
            "Enter the radius of the circle: 10\n"
          ]
        },
        {
          "output_type": "execute_result",
          "data": {
            "text/plain": [
              "314.1592653589793"
            ]
          },
          "metadata": {},
          "execution_count": 103
        }
      ]
    },
    {
      "cell_type": "code",
      "source": [
        "sentence = \"I am a teacher and I love to inspire and teach people\"\n",
        "words = sentence.split()\n",
        "unique_words = set(words)\n",
        "number_of_unique_words = len(unique_words)\n",
        "number_of_unique_words"
      ],
      "metadata": {
        "colab": {
          "base_uri": "https://localhost:8080/"
        },
        "id": "jLPcecdf8qrE",
        "outputId": "3048b573-4eae-4816-f5ee-995b15804816"
      },
      "execution_count": 104,
      "outputs": [
        {
          "output_type": "execute_result",
          "data": {
            "text/plain": [
              "10"
            ]
          },
          "metadata": {},
          "execution_count": 104
        }
      ]
    },
    {
      "cell_type": "code",
      "source": [
        "\n",
        "header = \"Name\\tAge\\tCountry\\tCity\"\n",
        "data = \"Asabeneh\\t250\\tFinland\\tHelsinki\"\n",
        "print(header)\n",
        "print(data)\n"
      ],
      "metadata": {
        "colab": {
          "base_uri": "https://localhost:8080/"
        },
        "id": "5yWQ9Fkb9Rzd",
        "outputId": "0edf0ed9-97be-4713-a01c-cf2542ae92a8"
      },
      "execution_count": 105,
      "outputs": [
        {
          "output_type": "stream",
          "name": "stdout",
          "text": [
            "Name\tAge\tCountry\tCity\n",
            "Asabeneh\t250\tFinland\tHelsinki\n"
          ]
        }
      ]
    },
    {
      "cell_type": "code",
      "source": [
        "radius = 10\n",
        "area = 3.14 * radius ** 2\n",
        "\n",
        "message = \"The area of a circle with radius {} is {:.2f} meters square.\".format(radius, area)\n",
        "message\n"
      ],
      "metadata": {
        "colab": {
          "base_uri": "https://localhost:8080/",
          "height": 36
        },
        "id": "IncwmV8A-ZKf",
        "outputId": "0a326245-b81a-43dc-adee-007a4a875acb"
      },
      "execution_count": 106,
      "outputs": [
        {
          "output_type": "execute_result",
          "data": {
            "text/plain": [
              "'The area of a circle with radius 10 is 314.00 meters square.'"
            ],
            "application/vnd.google.colaboratory.intrinsic+json": {
              "type": "string"
            }
          },
          "metadata": {},
          "execution_count": 106
        }
      ]
    },
    {
      "cell_type": "code",
      "source": [
        "# Read the number of elements\n",
        "n = int(input(\"Enter the number of students: \"))\n",
        "\n",
        "# Initialize an empty list for weights in pounds\n",
        "weights_lbs = []\n",
        "\n",
        "# Use a while loop to read and append elements to the list\n",
        "i = 0\n",
        "while i < n:\n",
        "    weight_lbs = int(input(f\"Enter weight of student  {i+1} (in pounds): \"))\n",
        "    weights_lbs.append(weight_lbs)\n",
        "    i += 1\n",
        "\n",
        "# Convert weights from pounds to kilograms and round to 2 decimal places\n",
        "weights_kg = []\n",
        "i = 0\n",
        "while i < len(weights_lbs):\n",
        "    weight_kg = round(weights_lbs[i] * 0.453592, 2)\n",
        "    weights_kg.append(weight_kg)\n",
        "    i += 1\n",
        "\n",
        "# Print the weights in kilograms\n",
        "print(weights_kg)"
      ],
      "metadata": {
        "colab": {
          "base_uri": "https://localhost:8080/"
        },
        "id": "TXLijNGgagoN",
        "outputId": "d12466be-d16b-4829-a138-d43d1919520b"
      },
      "execution_count": 107,
      "outputs": [
        {
          "output_type": "stream",
          "name": "stdout",
          "text": [
            "Enter the number of students: 3\n",
            "Enter weight of student  1 (in pounds): 123\n",
            "Enter weight of student  2 (in pounds): 125\n",
            "Enter weight of student  3 (in pounds): 344\n",
            "[55.79, 56.7, 156.04]\n"
          ]
        }
      ]
    }
  ]
}