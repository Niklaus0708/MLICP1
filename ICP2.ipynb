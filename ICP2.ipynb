{
  "nbformat": 4,
  "nbformat_minor": 0,
  "metadata": {
    "colab": {
      "provenance": [],
      "toc_visible": true,
      "authorship_tag": "ABX9TyPA9wDhuUS8Zh9kIybcZRK5",
      "include_colab_link": true
    },
    "kernelspec": {
      "name": "python3",
      "display_name": "Python 3"
    },
    "language_info": {
      "name": "python"
    }
  },
  "cells": [
    {
      "cell_type": "markdown",
      "metadata": {
        "id": "view-in-github",
        "colab_type": "text"
      },
      "source": [
        "<a href=\"https://colab.research.google.com/github/Niklaus0708/MLICP1/blob/main/ICP2.ipynb\" target=\"_parent\"><img src=\"https://colab.research.google.com/assets/colab-badge.svg\" alt=\"Open In Colab\"/></a>"
      ]
    },
    {
      "cell_type": "code",
      "execution_count": null,
      "metadata": {
        "colab": {
          "base_uri": "https://localhost:8080/"
        },
        "id": "LehC3pPfIKsM",
        "outputId": "0edd2681-ed26-4466-83f3-f93dc3c4706e"
      },
      "outputs": [
        {
          "output_type": "stream",
          "name": "stdout",
          "text": [
            "* \r\n",
            "* * \r\n",
            "* * * \r\n",
            "* * * * \r\n",
            "* * * * * \r\n",
            "* * * * \r\n",
            "* * * \r\n",
            "* * \r\n",
            "* \r\n",
            "\r\n"
          ]
        }
      ],
      "source": [
        "#Q1\n",
        "#Use a python code to display the following star pattern using the for loop\n",
        "rows = 5\n",
        "\n",
        "#used nested for loop to display top 5 rows of star pattern\n",
        "for i in range(0, rows):\n",
        "    for j in range(0, i + 1):\n",
        "        print(\"*\", end=' ')\n",
        "    print(\"\\r\")\n",
        "#used nested for loop for to display bottoms 5rows of star pattern\n",
        "for i in range(rows, 0, -1):\n",
        "    for j in range(0, i - 1):\n",
        "        print(\"*\", end=' ')\n",
        "    print(\"\\r\")"
      ]
    },
    {
      "cell_type": "code",
      "source": [
        "#Q2\n",
        "# Used looping method to provide the elements from the list present at odd indexes.\n",
        "\n",
        "my_list = [10, 20, 30, 40, 50, 60, 70, 80, 90, 100]\n",
        "i = 0\n",
        "while(i<len(my_list)):\n",
        "  if(i%2!=0):\n",
        "    print(my_list[i])\n",
        "  i = i+1"
      ],
      "metadata": {
        "colab": {
          "base_uri": "https://localhost:8080/"
        },
        "id": "CpZK7MgPIP1z",
        "outputId": "8a6b8360-69b6-4cd1-c6a8-f96d7f35eedd"
      },
      "execution_count": null,
      "outputs": [
        {
          "output_type": "stream",
          "name": "stdout",
          "text": [
            "20\n",
            "40\n",
            "60\n",
            "80\n",
            "100\n"
          ]
        }
      ]
    },
    {
      "cell_type": "code",
      "source": [
        "#Q3.\n",
        "# Append a list with types of elements\n",
        "\n",
        "x = [23,'Python', 23.98]\n",
        "n = []\n",
        "for i in range(len(x)):\n",
        "    #using type function to get types of elements,their data types and print them\n",
        "    n.append(type(x[i]))\n",
        "print(n)\n",
        "print(x)"
      ],
      "metadata": {
        "colab": {
          "base_uri": "https://localhost:8080/"
        },
        "id": "DfCF8SHgIefH",
        "outputId": "9241c678-821c-408a-ac25-f519768d43fc"
      },
      "execution_count": null,
      "outputs": [
        {
          "output_type": "stream",
          "name": "stdout",
          "text": [
            "[<class 'int'>, <class 'str'>, <class 'float'>]\n",
            "[23, 'Python', 23.98]\n"
          ]
        }
      ]
    },
    {
      "cell_type": "code",
      "source": [
        "#Q4\n",
        "#Write a function that takes a list and returns a new list with unique items of the first list.\n",
        "#Sample List: [1,2,3,3,3,3,4,5]\n",
        "def unique_list(l):\n",
        "  x = []\n",
        "#using for loop\n",
        "  for a in l:\n",
        "    if a not in x:\n",
        "      x.append(a)\n",
        "  return x\n",
        "print(unique_list([1,2,3,3,3,3,4,5]))\n"
      ],
      "metadata": {
        "colab": {
          "base_uri": "https://localhost:8080/"
        },
        "id": "zW6aInEdIlt-",
        "outputId": "082f91f8-1f01-44c2-d111-924080491664"
      },
      "execution_count": null,
      "outputs": [
        {
          "output_type": "stream",
          "name": "stdout",
          "text": [
            "[1, 2, 3, 4, 5]\n"
          ]
        }
      ]
    },
    {
      "cell_type": "code",
      "source": [
        "#Q5\n",
        "#. Write a function that accepts a string and calculate the number of upper-case letters and lower-case letters.\n",
        "# Input String: 'The quick Brow Fox'\n",
        "def string_test(s):\n",
        "    d={\"UPPER_CASE\":0, \"LOWER_CASE\":0}\n",
        "    for c in s:\n",
        "        if c.isupper():\n",
        "           d[\"UPPER_CASE\"]+=1\n",
        "        elif c.islower():\n",
        "           d[\"LOWER_CASE\"]+=1\n",
        "        else:\n",
        "           pass\n",
        "    print (\"Original String : \", s)\n",
        "    print (\"No. of Upper case characters : \", d[\"UPPER_CASE\"])\n",
        "    print (\"No. of Lower case Characters : \", d[\"LOWER_CASE\"])\n",
        "\n",
        "string_test('The quick Brow Fox')"
      ],
      "metadata": {
        "colab": {
          "base_uri": "https://localhost:8080/"
        },
        "id": "02cOk8ujIqha",
        "outputId": "99ead830-f506-466f-f948-f79dbb5822f2"
      },
      "execution_count": null,
      "outputs": [
        {
          "output_type": "stream",
          "name": "stdout",
          "text": [
            "Original String :  The quick Brow Fox\n",
            "No. of Upper case characters :  3\n",
            "No. of Lower case Characters :  12\n"
          ]
        }
      ]
    }
  ]
}