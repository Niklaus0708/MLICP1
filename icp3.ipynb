{
  "nbformat": 4,
  "nbformat_minor": 0,
  "metadata": {
    "colab": {
      "provenance": [],
      "authorship_tag": "ABX9TyMPjEGknwpIqxFF30TMRaFf",
      "include_colab_link": true
    },
    "kernelspec": {
      "name": "python3",
      "display_name": "Python 3"
    },
    "language_info": {
      "name": "python"
    }
  },
  "cells": [
    {
      "cell_type": "markdown",
      "metadata": {
        "id": "view-in-github",
        "colab_type": "text"
      },
      "source": [
        "<a href=\"https://colab.research.google.com/github/Niklaus0708/MLICP1/blob/main/icp3.ipynb\" target=\"_parent\"><img src=\"https://colab.research.google.com/assets/colab-badge.svg\" alt=\"Open In Colab\"/></a>"
      ]
    },
    {
      "cell_type": "markdown",
      "source": [
        "ICP 3"
      ],
      "metadata": {
        "id": "a--yOd8JrPD7"
      }
    },
    {
      "cell_type": "code",
      "source": [
        "import numpy as np"
      ],
      "metadata": {
        "id": "d7Ox4VQkrVt-"
      },
      "execution_count": null,
      "outputs": []
    },
    {
      "cell_type": "code",
      "source": [
        "c=np.array([[1,2,3,4,5,6,7,8,9,10,11,12,13,14,15]],dtype='float32')"
      ],
      "metadata": {
        "id": "polJchELrUhr"
      },
      "execution_count": null,
      "outputs": []
    },
    {
      "cell_type": "code",
      "source": [
        "c=c.reshape(3,5)\n",
        "c"
      ],
      "metadata": {
        "colab": {
          "base_uri": "https://localhost:8080/"
        },
        "id": "S0CNe1mwt5Ly",
        "outputId": "8eb8ef70-265b-4696-d3d0-cc8306319e65"
      },
      "execution_count": null,
      "outputs": [
        {
          "output_type": "execute_result",
          "data": {
            "text/plain": [
              "array([[ 1.,  2.,  3.,  4.,  5.],\n",
              "       [ 6.,  7.,  8.,  9., 10.],\n",
              "       [11., 12., 13., 14., 15.]], dtype=float32)"
            ]
          },
          "metadata": {},
          "execution_count": 7
        }
      ]
    },
    {
      "cell_type": "code",
      "source": [
        "print(c.shape)"
      ],
      "metadata": {
        "colab": {
          "base_uri": "https://localhost:8080/"
        },
        "id": "5zpGwB-iuOkA",
        "outputId": "9601cb5d-d792-4bfc-e5ef-512deb0719c0"
      },
      "execution_count": null,
      "outputs": [
        {
          "output_type": "stream",
          "name": "stdout",
          "text": [
            "(3, 5)\n"
          ]
        }
      ]
    },
    {
      "cell_type": "code",
      "source": [
        "max_values = np.argmax(c, axis=1)\n",
        "c[np.arange(len(c)), max_values] = 0\n",
        "c"
      ],
      "metadata": {
        "colab": {
          "base_uri": "https://localhost:8080/"
        },
        "id": "F5oqB6FJuSsU",
        "outputId": "43a567fe-35a6-4849-85b8-415c7e1024ca"
      },
      "execution_count": null,
      "outputs": [
        {
          "output_type": "execute_result",
          "data": {
            "text/plain": [
              "array([[ 1.,  2.,  3.,  4.,  0.],\n",
              "       [ 6.,  7.,  8.,  9.,  0.],\n",
              "       [11., 12., 13., 14.,  0.]], dtype=float32)"
            ]
          },
          "metadata": {},
          "execution_count": 10
        }
      ]
    },
    {
      "cell_type": "code",
      "source": [
        "a=np.random.random((4,3)).astype(int)\n",
        "print(a)\n",
        "print(a.shape)\n",
        "type(a)\n",
        "print(a.dtype)"
      ],
      "metadata": {
        "colab": {
          "base_uri": "https://localhost:8080/"
        },
        "id": "rYXzEKHZwVob",
        "outputId": "61a56537-c49a-4c7d-d0c7-ea7fa45fa364"
      },
      "execution_count": null,
      "outputs": [
        {
          "output_type": "stream",
          "name": "stdout",
          "text": [
            "[[0 0 0]\n",
            " [0 0 0]\n",
            " [0 0 0]\n",
            " [0 0 0]]\n",
            "(4, 3)\n",
            "int64\n"
          ]
        }
      ]
    },
    {
      "cell_type": "code",
      "source": [
        "matrix = np.array([[3,-2],\n",
        "                   [1,0]])\n",
        "\n",
        "# Calculate eigenvalues and right eigenvectors\n",
        "eigenvalues, eigenvectors = np.linalg.eig(matrix)\n",
        "\n",
        "# Print the results\n",
        "print(\"Eigenvalues:\")\n",
        "print(eigenvalues)\n",
        "print(\"\\nRight Eigenvectors (column-wise):\")\n",
        "print(eigenvectors)"
      ],
      "metadata": {
        "colab": {
          "base_uri": "https://localhost:8080/"
        },
        "id": "m68Le_4cx_8T",
        "outputId": "ffcda29b-e3fc-485c-e3b3-c30557ca5e0a"
      },
      "execution_count": null,
      "outputs": [
        {
          "output_type": "stream",
          "name": "stdout",
          "text": [
            "Eigenvalues:\n",
            "[2. 1.]\n",
            "\n",
            "Right Eigenvectors (column-wise):\n",
            "[[0.89442719 0.70710678]\n",
            " [0.4472136  0.70710678]]\n"
          ]
        }
      ]
    },
    {
      "cell_type": "code",
      "source": [
        "m1=np.array([[0,1,2],[3,4,5]])\n",
        "m1.diagonal()\n",
        "np.trace(m1)"
      ],
      "metadata": {
        "colab": {
          "base_uri": "https://localhost:8080/"
        },
        "id": "CFTe9jjp5NfE",
        "outputId": "93f1f310-4c8c-4688-f267-5f50e0bdca70"
      },
      "execution_count": null,
      "outputs": [
        {
          "output_type": "execute_result",
          "data": {
            "text/plain": [
              "4"
            ]
          },
          "metadata": {},
          "execution_count": 21
        }
      ]
    },
    {
      "cell_type": "code",
      "source": [
        "import numpy as np\n",
        "\n",
        "def reshape(array, new_shape):\n",
        "\n",
        "\n",
        "  # Check if the new shape is compatible with the original data\n",
        "  if np.prod(array.shape) != np.prod(new_shape):\n",
        "    print(\"Error: Cannot reshape array. New shape is incompatible with the original data.\")\n",
        "    return None\n",
        "\n",
        "  # Reshape the array\n",
        "  reshaped_array = array.reshape(new_shape)\n",
        "\n",
        "  return reshaped_array\n",
        "\n",
        "# Example usage:\n",
        "original_array = np.array([[1,2],[3,4],[5,6]])\n",
        "new_shape = (2, 3)\n",
        "\n",
        "reshaped_array = reshape(original_array, new_shape)\n",
        "\n",
        "if reshaped_array is not None:\n",
        "  print(\"Original array:\\n\", original_array)\n",
        "  print(\"Reshaped array:\\n\", reshaped_array)"
      ],
      "metadata": {
        "colab": {
          "base_uri": "https://localhost:8080/"
        },
        "id": "kI4LuUkx52Sp",
        "outputId": "161b6289-bd21-4a1f-8388-98f3222f6174"
      },
      "execution_count": null,
      "outputs": [
        {
          "output_type": "stream",
          "name": "stdout",
          "text": [
            "Original array:\n",
            " [[1 2]\n",
            " [3 4]\n",
            " [5 6]]\n",
            "Reshaped array:\n",
            " [[1 2 3]\n",
            " [4 5 6]]\n"
          ]
        }
      ]
    }
  ]
}